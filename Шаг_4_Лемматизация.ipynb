{
  "nbformat": 4,
  "nbformat_minor": 0,
  "metadata": {
    "colab": {
      "provenance": []
    },
    "kernelspec": {
      "name": "python3",
      "display_name": "Python 3"
    },
    "language_info": {
      "name": "python"
    }
  },
  "cells": [
    {
      "cell_type": "code",
      "execution_count": 1,
      "metadata": {
        "id": "j9N13GMwGqWw"
      },
      "outputs": [],
      "source": [
        "import pandas as pd\n",
        "import spacy\n",
        "from tqdm import tqdm\n",
        "import string"
      ]
    },
    {
      "cell_type": "code",
      "source": [
        "from google.colab import drive\n",
        "drive.mount('/content/drive')"
      ],
      "metadata": {
        "id": "QjWIDF7eHI9u"
      },
      "execution_count": null,
      "outputs": []
    },
    {
      "cell_type": "code",
      "source": [
        "nlp = spacy.load(\"ru_core_news_lg\")"
      ],
      "metadata": {
        "id": "u39yM8fkHAYm"
      },
      "execution_count": null,
      "outputs": []
    },
    {
      "cell_type": "code",
      "source": [
        "russian_stopwords = nlp.Defaults.stop_words\n",
        "russian_stopwords.discard(\"не\")"
      ],
      "metadata": {
        "id": "xKdLpldPHBu1"
      },
      "execution_count": null,
      "outputs": []
    },
    {
      "cell_type": "code",
      "source": [
        "def fast_lemmatize(text: str) -> str:\n",
        "    doc = nlp(text.lower())\n",
        "    lemmas = []\n",
        "    for token in doc:\n",
        "        if token.is_punct or token.is_space:\n",
        "            continue\n",
        "        word = token.text.strip(string.punctuation + \"—–…\")\n",
        "        if not word:\n",
        "            continue\n",
        "        if word in russian_stopwords and word != \"не\":\n",
        "            continue\n",
        "        if word.isdigit():\n",
        "            continue\n",
        "        lemmas.append(token.lemma_)\n",
        "    return ' '.join(lemmas)"
      ],
      "metadata": {
        "id": "FPlRGIt8HC2e"
      },
      "execution_count": null,
      "outputs": []
    },
    {
      "cell_type": "code",
      "source": [
        "data = pd.read_csv('/content/drive/MyDrive/Datasets/labeled_dataset.csv')"
      ],
      "metadata": {
        "id": "Uril5d7dHEuW"
      },
      "execution_count": null,
      "outputs": []
    },
    {
      "cell_type": "code",
      "source": [
        "processed_data = data.copy()\n",
        "processed_data[\"text1\"] = processed_data[\"text1\"].progress_apply(fast_lemmatize)\n",
        "processed_data[\"text2\"] = processed_data[\"text2\"].progress_apply(fast_lemmatize)"
      ],
      "metadata": {
        "id": "UPF4HPbiHNSd"
      },
      "execution_count": null,
      "outputs": []
    },
    {
      "cell_type": "code",
      "source": [
        "processed_data.to_csv('/content/drive/MyDrive/Datasets/cleaned_dataset.csv', index=False)"
      ],
      "metadata": {
        "id": "Cp1hi8fGHPQe"
      },
      "execution_count": null,
      "outputs": []
    }
  ]
}