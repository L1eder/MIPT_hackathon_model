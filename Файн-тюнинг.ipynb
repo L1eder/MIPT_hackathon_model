{
  "nbformat": 4,
  "nbformat_minor": 0,
  "metadata": {
    "colab": {
      "provenance": []
    },
    "kernelspec": {
      "name": "python3",
      "display_name": "Python 3"
    },
    "language_info": {
      "name": "python"
    }
  },
  "cells": [
    {
      "cell_type": "code",
      "execution_count": null,
      "metadata": {
        "id": "ur4FkY3bKBAB"
      },
      "outputs": [],
      "source": [
        "!pip install -q sentence-transformers pandas scikit-learn"
      ]
    },
    {
      "cell_type": "code",
      "source": [
        "!pip install datasets"
      ],
      "metadata": {
        "id": "vb2sdFXhKFrG"
      },
      "execution_count": null,
      "outputs": []
    },
    {
      "cell_type": "code",
      "source": [
        "from google.colab import drive\n",
        "drive.mount('/content/drive')"
      ],
      "metadata": {
        "id": "hirOOcJzKGgu"
      },
      "execution_count": null,
      "outputs": []
    },
    {
      "cell_type": "code",
      "source": [
        "import pandas as pd\n",
        "import torch\n",
        "from sentence_transformers import SentenceTransformer, InputExample, losses\n",
        "from torch.utils.data import DataLoader\n",
        "from sklearn.model_selection import train_test_split\n",
        "from sklearn.metrics import roc_auc_score, mean_squared_error\n",
        "from scipy.stats import spearmanr, pearsonr"
      ],
      "metadata": {
        "id": "oClfklxcKH2e"
      },
      "execution_count": null,
      "outputs": []
    },
    {
      "cell_type": "code",
      "source": [
        "DATA_PATH = '/content/drive/MyDrive/Datasets/cleaned_dataset.csv'"
      ],
      "metadata": {
        "id": "k35ojga3KJYu"
      },
      "execution_count": null,
      "outputs": []
    },
    {
      "cell_type": "code",
      "source": [
        "df = pd.read_csv(DATA_PATH)\n",
        "df = df.sample(3000, random_state=42)\n",
        "df = df.dropna(subset=[\"text1\", \"text2\", \"label\"])\n",
        "train_df, val_df = train_test_split(df, test_size=0.15, random_state=42)\n",
        "\n",
        "train_samples = [\n",
        "    InputExample(texts=[row['text1'], row['text2']], label=float(row['label']))\n",
        "    for _, row in train_df.iterrows()\n",
        "]\n",
        "\n",
        "val_pairs = list(zip(val_df['text1'].tolist(), val_df['text2'].tolist()))\n",
        "val_labels = val_df['label'].astype(float).tolist()"
      ],
      "metadata": {
        "id": "I0GuFohMKKle"
      },
      "execution_count": null,
      "outputs": []
    },
    {
      "cell_type": "code",
      "source": [
        "MODEL_NAME = 'distiluse-base-multilingual-cased-v1'\n",
        "EPOCHS = 1\n",
        "BATCH_SIZE = 128\n",
        "SAVE_DIR = '/content/fine-tuned-model'\n",
        "\n",
        "model = SentenceTransformer(MODEL_NAME, device=device)\n",
        "train_dataloader = DataLoader(train_samples, shuffle=True, batch_size=BATCH_SIZE)\n",
        "train_loss = losses.CosineSimilarityLoss(model=model)"
      ],
      "metadata": {
        "id": "k7URQhbzKNB2"
      },
      "execution_count": null,
      "outputs": []
    },
    {
      "cell_type": "code",
      "source": [
        "def evaluate_model(model, pairs, true_labels):\n",
        "    embeddings1 = model.encode([p[0] for p in pairs], convert_to_tensor=True, show_progress_bar=False)\n",
        "    embeddings2 = model.encode([p[1] for p in pairs], convert_to_tensor=True, show_progress_bar=False)\n",
        "    cosine_scores = torch.nn.functional.cosine_similarity(embeddings1, embeddings2).cpu().numpy()\n",
        "\n",
        "    roc = roc_auc_score(true_labels, cosine_scores)\n",
        "    mse = mean_squared_error(true_labels, cosine_scores)\n",
        "    spearman = spearmanr(true_labels, cosine_scores).correlation\n",
        "    pearson = pearsonr(true_labels, cosine_scores)[0]\n",
        "\n",
        "    print(f\"\\n🔍 Validation Metrics:\")\n",
        "    print(f\"ROC AUC:    {roc:.4f}\")\n",
        "    print(f\"MSE:        {mse:.4f}\")\n",
        "    print(f\"Spearman:   {spearman:.4f}\")\n",
        "    print(f\"Pearson:    {pearson:.4f}\")\n",
        "    return roc"
      ],
      "metadata": {
        "id": "AYzkLztTKO22"
      },
      "execution_count": null,
      "outputs": []
    },
    {
      "cell_type": "code",
      "source": [
        "warmup_steps = int(len(train_dataloader) * EPOCHS * 0.1)\n",
        "best_roc_auc = 0\n",
        "\n",
        "for epoch in range(EPOCHS):\n",
        "    print(f\"\\n🚀 Epoch {epoch + 1}/{EPOCHS}\")\n",
        "    model.fit(\n",
        "        train_objectives=[(train_dataloader, train_loss)],\n",
        "        epochs=1,\n",
        "        warmup_steps=warmup_steps,\n",
        "        show_progress_bar=True\n",
        "    )\n",
        "\n",
        "    roc_auc = evaluate_model(model, val_pairs, val_labels)\n",
        "\n",
        "    if roc_auc > best_roc_auc:\n",
        "        best_roc_auc = roc_auc\n",
        "        model.save(SAVE_DIR)\n",
        "        print(f\"Model saved to {SAVE_DIR}\")"
      ],
      "metadata": {
        "id": "QIPwTl8gKQNu"
      },
      "execution_count": null,
      "outputs": []
    },
    {
      "cell_type": "code",
      "source": [
        "import shutil\n",
        "from google.colab import files\n",
        "\n",
        "shutil.make_archive(\"fine-tuned-model\", 'zip', SAVE_DIR)\n",
        "files.download(\"fine-tuned-model.zip\")"
      ],
      "metadata": {
        "id": "kLM_T2PRKSRe"
      },
      "execution_count": null,
      "outputs": []
    }
  ]
}